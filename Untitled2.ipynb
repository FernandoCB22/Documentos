{
 "cells": [
  {
   "cell_type": "code",
   "execution_count": 1,
   "id": "3522adc6",
   "metadata": {},
   "outputs": [
    {
     "data": {
      "text/plain": [
       "['periodicos',\n",
       " 'Periodicos_Transcritos_Manual_TXT.rar',\n",
       " 'requirements.txt',\n",
       " 'resources']"
      ]
     },
     "execution_count": 1,
     "metadata": {},
     "output_type": "execute_result"
    }
   ],
   "source": [
    "import os\n",
    "os.chdir('diario/')\n",
    "os.listdir()"
   ]
  },
  {
   "cell_type": "code",
   "execution_count": 2,
   "id": "fd1d2ba6",
   "metadata": {},
   "outputs": [
    {
     "name": "stdout",
     "output_type": "stream",
     "text": [
      "DIARIO DE MADRID QUE COMPREHENDE LOS MESES DE ENERO, FEBRERO, Y MARZO DE 1788. TOMO SEPTIMO. MADRID. EN LA IMPRENTA DE HILARIO SANTOS, PUERTA DEL SOL. CON PRIVILEGIO REAL. \n",
      "\n",
      "\n",
      "\n",
      "INDICE\t DE LAS COSAS MAS NOTABLES CONTENIDAS en este Tomo Septimo. Introduccion al Almanak rural y Georgicon del mes de Enero Folio 1, 5 y 9. Carta Ã¡ los Diaristas sobre la limpieza de las calles en tiempo de lluvia 2. Veterinaria: Segundo premio, cuyo asunto es la enfermedad llamada quarto 7. Carta con proyecto y cÃ¡lculos sobre el establecimiento de la opera en Madrid 13. Astronomia: Carta, 2.Âª sobre el Telescopio de Herschel 17, 21, 29, 33 y 37. Descubrimiento en Pintura 23. El Vendedor rendido: anecdota Americana 27. Constumbres extrangeras: Psilos de Egypto 35. Igiena: los melancÃ³licos padecen mas en el Invierno 35. Alcaldes de Barrio nombrados para este aÃ±o en el quartel de Afligidos 38. En el de Maravillas 39. Del Barquillo Idem. De Palacio 43. Del Avapies 66. De San GerÃ³nimo 67. De la Plaza mayor 110. Literatura extrangera: noticia de una obra Inglesa sobre Hospitales para dementes 41. PoesÃ­a: retratos de un EspaÃ±ol y una EspaÃ±ola, segÃºn la moda Ã¡ fines de 87 42. Carta crÃ­tica sobre un proyecto para el establecimiento de la Ã³pera en Madrid 45. Albeiteria: Carta sobre el exÃ¡men de las obras de esta facultad 49. Noticia de una obra francesa moderna sobre Veterinaria 50. Igiena: preservativos contra la hipocondrÃ­a 53. Decima sobre el mismo asunto 55. Causas de la prostitucion y sus remedios; Carta 57, 61, 65, 69, 73, 77, y 81. Cartas sobre el luxo 58 y 59. Carta con noticia de la respuesta de Don Pedro Salanova al Coronel don Antonio Gilleman 62. Literatura: Noticia del n.Âº 3.Âº de la obra intitulada GavÃ­nete de lectura 70. Contextacion Ã¡ la respuesta sobre el mejor establecimiento de la Ã³pera 73. AstronomÃ­a: Descubrimiento de Herschel 82. Hecho herÃ³rico de los Maniotas 83. Razon de los caudales de la Diputacion del Caridad del Barrio de DoÃ±a Maria de Aragon en el aÃ±o de 1787 83. Noticia del cÃ©lebre escultor Felipe de VÃ­garvi, y de algunas obras suyas en EspaÃ±a 85 y 89. \n",
      "\n"
     ]
    }
   ],
   "source": [
    "filename = 'periodicos/txt2.txt'\n",
    "with open(filename, 'r') as file:\n",
    "    for _ in range(3):  # Muestra las primeras 5 líneas\n",
    "        print(file.readline())"
   ]
  },
  {
   "cell_type": "code",
   "execution_count": 3,
   "id": "671ce1c7",
   "metadata": {},
   "outputs": [],
   "source": [
    "import re\n",
    "import os\n",
    "from IPython.display import HTML\n",
    "from collections import OrderedDict\n",
    "from lemminflect import getLemma, getInflection"
   ]
  },
  {
   "cell_type": "code",
   "execution_count": 4,
   "id": "dffafac1",
   "metadata": {},
   "outputs": [],
   "source": [
    "def clean_text(input_text):\n",
    "    # Reemplaza caracteres especiales y secuencias de espacios con un solo espacio\n",
    "    cleaned_text = re.sub(r'\\s+', ' ', input_text)\n",
    "    \n",
    "    # Otras transformaciones o reemplazos específicos según tus necesidades\n",
    "    cleaned_text = cleaned_text.replace('\\n', ' ').replace('\\t', ' ').replace('∫', 's')\n",
    "    \n",
    "    return cleaned_text.strip()"
   ]
  },
  {
   "cell_type": "code",
   "execution_count": 5,
   "id": "a45cb1d8",
   "metadata": {},
   "outputs": [
    {
     "name": "stdout",
     "output_type": "stream",
     "text": [
      "DIARIO DE MADRID QUE COMPREHENDE LOS MESES DE ENERO, FEBRERO, Y MARZO DE 1788. TOMO SEPTIMO. MADRID. EN LA IMPRENTA DE HILARIO SANTOS, PUERTA DEL SOL. CON PRIVILEGIO REAL. \n",
      "\n",
      "INDICE\t DE LAS COSAS MAS NOTABLES CONTENIDAS en este Tomo Septimo. Introduccion al Almanak rural y Georgicon del mes de Enero Folio 1, 5 y 9. Carta á los Diaristas sobre la limpieza de las calles en tiempo de lluvia 2. Veterinaria: Segundo premio, cuyo asunto es la enfermedad llamada quarto 7. Carta con proyecto y cálculos sobre el establecimiento de la opera en Madrid 13. Astronomia: Carta, 2.ª sobre el Telescopio de Herschel 17, 21, 29, 33 y 37. Descubrimiento en Pintura 23. El Vendedor rendido: anecdota Americana 27. Constumbres extrangeras: Psilos de Egypto 35. Igiena: los melancólicos padecen mas en el Invierno 35. Alcaldes de Barrio nombrados para este año en el quartel de Afligidos 38. En el de Maravillas 39. Del Barquillo Idem. De Palacio 43. Del Avapies 66. De San Gerónimo 67. De la Plaza mayor 110. Literatura extrangera: noticia de una obra Inglesa sobre Hospitales para dementes 41. Poesía: retratos de un Español y una Española, según la moda á fines de 87 42. Carta crítica sobre un proyecto para el establecimiento de la ópera en Madrid 45. Albeiteria: Carta sobre el exámen de las obras de esta facultad 49. Noticia de una obra francesa moderna sobre Veterinaria 50. Igiena: preservativos contra la hipocondría 53. Decima sobre el mismo asunto 55. Causas de la prostitucion y sus remedios; Carta 57, 61, 65, 69, 73, 77, y 81. Cartas sobre el luxo 58 y 59. Carta con noticia de la respuesta de Don Pedro Salanova al Coronel don Antonio Gilleman 62. Literatura: Noticia del n.º 3.º de la obra intitulada Gavínete de lectura 70. Contextacion á la respuesta sobre el mejor establecimiento de la ópera 73. Astronomía: Descubrimiento de Herschel 82. Hecho herórico de los Maniotas 83. Razon de los caudales de la Diputacion del Caridad del Barrio de Doña Maria de Aragon en el año de 1787 83. Noticia del célebre escultor Felipe de Vígarvi, y de algunas obras suyas en España 85 y 89. \n",
      "\n",
      "2 Carta sobre la iluminacion de los Teatros del Principe y de la Cruz el dia del cumple años del Rey 86. Astronomía: objeciones á los descubrimientos de Herschel 87. Sobre el plantío de árboles en los contornos de Madrid 90. Qüestiones sobre puntos de Jurisprudencia 93. Historia natural: Descubrimiento de unos hombres de 24 pulgadas de altos 95. Patriotismo de una Señora Inglesa; y algunas reflexiones sobre el fomento de las fábricas de España 97. Discurso de doña Josepha Amar y Borbon para la junta de Damas unida a la sociedad económica de Madrid 101. Mitología: Fábula de Pigmalion 105. Física: Noticia del tomo 4.º de los Elementos de física de Mr. Sigaud, traducidos por don Tadeo Lope 109. Oposiciones á la plaza de maestro de primeras letras para la Villa de Belmonte 110. Anécdota historica de España; conquista de Granada por Don Fernando el Católico en Enero de 1492, y carta del mismo Soberano á la Ciudad de Victoria sobre este glorioso suceso 113. Epigrama sobre la invencion de los coches 115. Carta sobre los muchos proyectos y continua conversacion á que sirve de asunto el establecimiento de la opera 117. Cuento crítico: la privacion es causa del apetito 118. Astronomía: Carta de Mr. de la Lande sobre una nueva aceleracion observada en el movimiento de la Luna 121. Poesia: Romancillo á una muger llamada Rita folio 122. Almanak: rural y Georgicon del mes de Febrero 125. Varias poesias sueltas 129. Nueva idea para aumentar los avisos y noticias particulares de Madrid en el Diario: (articulo de crítica) 133. Poesía: Oda en elogio de los Teatros de Madrid 137 y 141 Carta sobre la prostitucion, respondiendo á otra sobre el mismo asunto 145. Económia rural: sobre la cria de caballos 149. Constumbres extrangeras. Santones de Egipto 151. Noticia de la asombrosa población de una Isla desierta 153, 157, 161. Prospecto de la obra de Botánica Icones plantarun medicinalium 154. Noticia de un veterano frances 158. Prospectos de la reimpresion francesa de las Reflexiones morales del Padre Lallemand 165. Extraordinaria abstinencia de un Judío 166. Igiena: La vida sedentaria de las mugeres es perjudicial al estado de preñez 169. Literatura extrangera: Razon de la obra italiana intitulada el amigo del Foro ó tratado de los modos viciosos en la defensa de las causas 173. Costumbres extrangeras: Sacrificios humanos y voluntarios en ciertos pueblos de la India 174. Noticias de la vida del Ilustrisimo don Martin Ayala 179, 183, 187, y 191. Aviso del Banco nacional de San Carlos sobre la junta general que de\n",
      "\n",
      "3 debe celebrarse á 24 de Febrero 185 Visita de los Principes Nuestros Señores á las reliquias de San Isidro y santa Maria de la Cabeza por la salud del Infante 188. Poseia: Romancillo á una muger llamada Rita 122. Almanak rural: y Georgicon del mes de Febrero 125. Soneto en accion de gracias por la mejoria del Infante ( Diario del 17 Febrero 193. Meteorologia: cometas observados en Fitero por el Reverendisimo Padre Don Gregorio Larrea ( Diario del 18 de Febrero ) 191. Noticia de la poblacion de Barcelona en 1786 195 y 199. Invencion: Voz sostenida en los fortepianos 201. Economia: Modo de alimentar los gusanos de seda quando se padece escasez de hoja de morera 203, 207, y 211. Soneto en elogio de la vida retirada, y otro en contra 209 y 216. Epigrama á favor de la soledad y retiro 225. Algunos medios para extinguir la oruga 215. Astronomia: carta de Malta en confirmación de los volcanes de la Luna 219. Enigma 220. Literatura: Noticia de la traducción Castellana de los Elementos de historia natural y Chímica por Mr. de Fourcroy 220 y 223. Epitafio de un perro 227. Tabla Sinóptica correspondiente al mes de Enero de 88 228 Recompensa magnánima del Rey de Napoles á unos esclavos Berberiscos 231 Medicina: Noticia de una obra Inglesa sobre la eficacia del juego del Columpio para la curación de la pulmonia y calentura ética 232. Poesía: tradución de 2 salmos de Davíd 235. Almanak rural y Georgicon de Marzo 239. Literatura: Razon y muestra de la traducion del Poema de la Religion de Luis Racine, hecha por don Bernardo Maria Calzada 243 y 247. Medicina: carta sobre la cólica saturnina ó Pictonum 251. Lista de los actores que componen las dos Compañías cómicas de Madrid para el año de 88 252. Observacion y exámen hecho al microscopio del granizo ó piedra que cayó en Madrid el día 4 de Marzo de este año 255. Bellas artes: Busto é inscripcion de Metastasio , colocado en el Panteon de Roma 255. Administracion: Resumen de la Real Cédula sobre exterminio de lobos, zorros y otros animales dañosos 259. Literatura extrangera: Extracto de la obra intitulada: Investigaciones sobre los Estados unidos Americanos 263 y 267. Noticias de la inundacion de Valladolid 271, 283, 325 y 329. Clausula testamentaria demostrando varios perjuicios que resultan de dar sepultura en los templos 275. Literatura: Noticia de los tomos; 3.º y 4.º de la obra que publica don Antonio Capmani con el titulo de Teatro crítico de la eloquencia Española 279. Costumbres extrangeras: Ayuno de los Turcos en su Ramadan ó Quaresma 287. Cirujía: Razon de la obra intitulada Principios de Cirujía general. \n",
      "\n",
      "4 por Don Ramón Fernandez 288. Chímica. Noticia del nuevo laboratorio chímico establecido en Madrid; y modo de hacer carbon de tierra 291. Poesía. Letrilla satírica 292. Invencion de un ropage incombustible 295. Tabla Sinóptica correspondiente al mes de Febrero 296. Academias: Premio academico extrangero sobre el mejor modo de hacer invariables los límites de los Campos 297. Avenidas y fenómeno subterráneo acaecido en Navarra 299. Relacion de un naufragio cerca de Bilbao, y generosa humanidad de un Español 300. Anecdota histórica de Alemania 303. Acto caritativo de un sugeto que ocultando su nombre vistió 24 niños; y algunas reflexîones sobre la utilidad en publicar estos hechos 305. Alegoría oriental sobre la union de la gloria y la virtud; y que sin esta no puede adquirirse aquella 307. Poesía sagrada: Noticia y muestra de las Nueve Lamentaciones de Jeremías, parafraseadas por Don Francisco Gregorio de Salas 311. Poesía sagrada: Traduccion de un Treno de Jeremías por el Con de de Rebolledo (Diario de 20 de Marzo) 316. Poesía sagrada: Noticia de Don Francisco Manuel, poeta de mérito y poco conocido, con muestras de sus poesias 313. Esfuerzo caritativo de un mozo que se arrojó al agua para salvar á un hombre que se ahogaba; y reflexîones sobre los socorros que de ben administrarse á los asfíticos, y á los niños que nacen en apariencia muertos pag. 317 (Diario de 22 de Marzo) 321. Poesía: Letrilla satírica (Diario de 22 de Marzo) 318. Carta en que se propone un modo para evitar los inconvenientes que trae el paso de los coches por la calle angosta de los Peligros 325. Poesia: Romancillo á una Monja que pedia un velo 326. Lista de los actores de la compañia cómica de los Sitios para este año 327. Veterinaria: Aviso sobre la adjudicacion del 2.º premio de Albeitería 330. Literatura: Carta del Abate Don Juan Andres á Don Isidoro Bosarte 333. Teatros: Carta crítica sobre la mejora de las comedias y modo de representarlas 337. Premio dado á principios de este año por el Rey de Francia al autor de una Comedia 339. Astronomía: Calculos y noticia histórica del Cometa que podrá aparecer en el año de 89 341 y 345. Actos de Beneficencia: de la Diputacion de Caridad del Barrio de San Marcos, y de un artesano agradecido 346. Poesía: Versos sáficos hechos de pronto por un muchacho cursante en los estudios de San Isidro de Madrid 349. Aviso de los Diaristas sobre las cartas y papeles que les remiten para publicar; sobre las erratas del Diario, y sobre el atraso en la publicacion de algunos avisos ó noticias sueltas 352. Poesía: Décima al nacimiento del Señor Infante Don Carlos; y pa rafrasis del Te Deum, por Don Francisco Gregorio de Salas 353. \n",
      "\n",
      "Num, 1. Pag. 1 DIARIO DE MADRID DEL MARTES 1 DE ENERO DE 1788. La Circuncision del Señor. = Está el Jubileo de las Quarenta Horas en la Parroquia de S. Salvador. = Fiesta de precepto. Afecciones Astronómicas de hoy. El 23 de la Luna, menguante. Sale esta noche á la 1 hor. 46 min. y 2 seg del principio de mañana, se pone á las 12 hor. 30 min, y 30 seg de su día; y está, en los 24 grad. de Libra. Sale el Sol á las 7 hor. con 20 min. se oculta á las 4 hor. con 40 min; y está en los 10 grad. 51 min. y 21 seg de Capricornio. Salé hoy el Planeta Herschel para Madrid á las 5 hor. con 57 min del anochecer; y se pone mañana 2 a las 8 hor. y  43 min. de su dia. Este nievo Planeta está hoy en los 28 grad y 54 min de Cancer: con 64 min de latitud geocentrica borcal: declinacion de 20 grad. y 58 min septentrionales: Ascension recta de 118 grad. con 54 min; y amplitudes ortiva y occidua de 28 grad con 24 min. Debe señalar el Relox al mediodia las 12 hor y 4 min. La equación muda 28 seg en 24 hor. La oblicuidad de la Ecliptica es en este día de 23 grad. 28 min y 5 segundos. Afecciones Meteorológicas de ayer. \n",
      "\n",
      "Epocas del dia. Termometro de Reaumur. Termometro de Farenheit.. Barom. simple de Torriceli. Vient y estad de la Atmosf. \n",
      "\n",
      "A las 7 de la mañana. 7 gr. y m. sobre el o. 47 grad. idem. 26 pul. cabales Vario. Calma, Cielo y Nubes. \n",
      "\n",
      "a las 12 del dia. 9 grad. idem. 50 grad. idem. 26 pulg cabales Sol. Calma, Raso y limp. \n",
      "\n",
      "A las 5 de la tarde. 9 grad. idem. 50 grad. idem. 26 pu. cab. Claro. Calma, Ciel y  \n",
      "\n",
      "Introduccion al Almanak rural. El Kalendario ó Almanak rusticó, no es otra cosa que un repertorio y apuntamiento en que están colocadas las principales faenas de la labranza, distribuyendolas por las estaciones del año, y sus doce meses; y gobernandolas por las lunaciones. Desde tiempo inmemorial, podemos decir que ha estado en problema la opinion sobre si los astros tienen; ó no influencia sobre los cuerpos sublunares; y si pueden ó no servir de gobierno como causas en los efectos de la agricultura, para pronosticar lo abundante ó estéril de los años; y lo escaso ó copioso de las cosechas. Los unos preocupados en favor de la influencia celeste, han resuelto por la afirmativa, no dudando que en todos los trabajos rurales de la labranza, se debe atender á la disposicion del Cielo y a los aspectos de los astros, principalmente de los planetas y aun mucho mas los de Sol y Luna. Otros nimiamente imbuidos de unas ideas por la mayor parte engañosas no tan solo aplicaron los influxos de planetas y signos á los preceptos del labrador, sino tambien á las reglas de la Medicina, leyes domesticas, viages, navegaciones, y aun á los asuntos religiosos. Así, pues, la inquietud, el amor á la salud y á la vida, el deseo de enriquecer\n",
      "\n",
      "2 se, el de conocer y prevenir con tiempo los sucesos Futuros que debian acaecernos,  .fueron otros tantos motivos que empezaron á seducir los fanaticos, para introducir la corrupcion en la Astronomía, inventando y prefiriendo a sus exâctos computos, los errados y contingentes de la Astrología judiciaria; porque desde luego creyeron que en el curso de los astros, en la naturaleza de sus calidades y en sus aspectos, se podía alcanzar y saber la varia fortuna de los hombres, tanto en sus bienes, como en sus males, dolencias, destinos y acontecimiento. No tan solo los sucesos fisicos de las vicisitudes meteorológicas, fueron fenomenos que se hacian depender de las infuencias de los astros, en cuya congetura no dexaba de hallarse bastante probabilidad como luego veremos; pero aun los sucesos morales y los efectos civiles de nuestra conducta, como la riqueza ó la mendiguez; el desprecio ó la honra; las pasiones del corazon; los afectos del ánimo; la fortuna ó desgracia de un comercio; una guerra; una conquista; y una enfermedad; todo esto y otras muchas cosas, eran el resorte y arbitrio de la influencia celeste. Un Astrologo en la antiguedad venia á ser como un Augur, un Vate, Adivino, ó Magico, cuyas decisivas predicciones eran admiradas y creidas del vulgo ignorante como otros tantos decretos religiosos baxados del Cielo. A nadie se le permitia emprender cosa alguna relativa á la Agricultura, Medicina, Comercio, &c. sin que fuese á consultar aquel supersticioso engañador, recibiendo sus ordenes como leyes formales. El Labrador y paysano acudia á este oráculo ridículo para que le pronosticase la estéril ó abundante cosecha de sus frutos; las afecciones meteorologicas de la atmosfera que se los podrian mejorar ó destruir; y las enfermedades ó accidentes que podrian padecer sus ganados. El enfermo ó doliente, atormentado de contínuos dolores y angustias, le consultaba sobre la peoría ó convalecencia que debia esperar de sus achaques en el influxo favorable ó adverso de los astros. Lo mísmo solicitaba el mercader en sus tráficos y comercios, para determinar ó suspender sus viages y navegaciones. De esta suerte la timidez y la supersticion, hijas de la ignorancia, que es la infame madre de todos los vicios, no daban paso en las acciones humanas, sin esperar del Cielo fisico las leyes de influencia para dirigirlas; por manera, que el cultivo de los campos para nuestro mantenimiento; La cria de los ganados y de la seda para nuestro vestido; los tratos y ventas para nuestras ganancias; los baños, sangrias y purgas para nuestra salud; y aun la frívola puerilidad de afeytarnos ó de cortarnos el pelo y las uñas para nuestro aseo, todo ello se juzgaba pender de los influxos celestes, sin cuya consulta astrologica no parece se debia pasar á la execucion de estos actos voluntarios. (Se continuara) A los Diaristas. Muy Sres. mios. No habiendose Vms. desdeñado de recordar en el Diario de 22 de Diciembre las circunstancias que deben concurrir en un buen cómico, ... y como Vms. prometen hacer lo mismo con quanto pueda instruir \n",
      "\n",
      "3 ó interesar la curiosidad de sus lectores, les incluyo un pensamiento en que no solo se interesa esto, sino tambien la conveniencia del público en general, y la hermosura y limpieza de la Corte; y asi fiado en aquella promesa espero que Vms. no omitirán su noticia, pues á caso sólo de ella pende su execucion. Cinco semanas hace que no cesa de llover, y tal vez no lo dexará en un par de meses, siendo esto muy propio de la estacion, como se experimenta poco más ó menos todos los años y pobres de nosotros si asi no fuera. De esto provienen los muchos lodos, en términos de estar intransitables las calles; tanto que por mucho que yo digera, todo seria poco. Asi no quiero mas fiador de ello que la experiencia. La incomodidad; o por mejor decir, el cumulo de incomodidades que de aqui se siguen al público tambien son bien patentes. Luego quien expusiese un medio para libertarse de todas ellas haría un servicio no corto á la patria; mayor si fuese de execucion sencilla y fácil; y mayor aun si se pudiese poner en planta inmediatamente, y sobre todo sin gravamen ni coste alguno. ¿Y qué es fácil esto? Yo creo que sí; á ver. Asi como á la entrada de verano todos los años se avisa y manda al público que desde principio de Mayo hasta fin de Setiembre, cada vecino riegue dos veces al día lo correspondiente a su posesion ó casa desde la acera hasta el arroyo, pena de cierta multa &c. del mismo modo se avisase y mándase por carteles, que desde principio de Octubre (y por lo que toca a este invierno quanto mss pronto) hasta fin de Abril, todos los días que amaneciese nevando, lloviendo, con niebla, ó bien que hubiese nevado ó llovido el dia o noche anterior; En una palabra, todos los dias que al amanecer hubiese lodos, cada vecino de ocho a nueve de la mañana barriese cada uno su pertenecido de de las losas de la acera hasta el arroyo, y en este hacer paso en aquellos parages, cruceros, ó travesías en que es absolutamente necesario para el tránsito del público, sin exceptuar de esta orden Conventos, Parroquías, ni nadie, pena de cierta multa que se deberia exigir irremisiblemente. Este es todo el pensamiento. Lo nada gravoso que es su fácil execucion; su notable utilidad; la hermosura y limpieza tan deseada en una Corte; el que sobreviniendo un fuerte aguacero quedarian en un momento las calles lavadas y muy limpias; finalmente que saliendo un poco de sol, ó soplando algun viento en un quarto de hora se verian enjutas; todo esto es tan claro que no se necesita manifestarlo; y es superfluo el persuadir una cosa tan evidente. La experiencia de una semana dirá mas que quanto yo pudiera expresar en dos pliegos; por tanto concluyo asegurando queda de Vms &c. F. Me de U. y N. NOTICIAS PARTICULARES DE MADRID. \n",
      "\n",
      "Noticias sueltas. Se desea saber donde vive Doña Gertrudis Pavia Hurtado de Mendoza, muger del Teniente Coronel de Artillería D. Manuel del Campo, el qual se halla \n",
      "\n",
      "en Lima, á fin de comunicarla asunto que la interesa. Quien lo sepa se servirá dexar las señas de su habitacion en la peluqueria de Vicente Rodriguez, en la calle de Jacometrezo, es\n",
      "\n",
      "quina á la del Olivo alto. En la villa de Illescas, 6 leguas de esta Corte, se vende á voluntad de sus dueños una casa, sita en la calle mayor, con habitaciones altas y baxas, cámaras, lugar con sus pertre chos, tinajas para vino y aceyte, dos cubas y otros enseres. Se acudirá para el ajuste á la costanilla de Santiago casa de D. Pedro Gil; y en la confiteria de la misma calle darán razón. Otra casa se vende á voluntad de su dueño en la plazuela del Rastro de esta Corte, señalada con el n. 31 en la manzana 72, que consta de 14,800 pies cubicos, está tasada en 278,800 rs. vn., no tiene censo perpetuo, ni casa de aposento; y renta anualmene 12,580. vn. Quien quisiere tratar de ajuste acudirá a la calle de Calatrava casa del Sto. Christo de las Maravillas, qto. baxo. Ventas. Dos forlones, el uno á la Inglesa, y el otro á la Francesa con juego á la Española; se venden en la calle de las Huertas n. 2, en casa del maestro de coches. Una calesa bien tratada, con juego para 3 caballerias y para tiro, se vende en la calle del Pez, taller del maestro de coches. n. 2. Perdidas. Quien hubiese perdido una moneda de plata que se halló el 29 de Diciembre desde el Convento del Carmen descalzo hasta el de las Ballecas, acudirá á D. Antonio Marin, Presbitero en la Parroquía de S. Ildefonso que dice la Misa de 12 en ella los dias de fiesta. ¿Quien hubiere encontrado una cartera de seda encarnada, y dentro un pergamino de la Real Inclusa, con el nombre de Miguel Angulo, y alguna moneda de plata, la entregará en \n",
      "\n",
      "la taberna de la calle de la Gorguera. Quien haya perdido una pollina nueva, que se encontró el 22 en la calle de Sta. Isabel, acuda al Alcalde de barrio del Ave Maria, que vive calle de la Cabeza, casa en que hay una imagen de Nra. Sra. de la Soledad. Un macho pequeño aparejado, con un pellejo vacio de vino, se perdió el 24. Quién lo hubiese hallado avisará en el meson de la panaderia en la plaza mayor. Sirvientes. Un hombre de circunstancias, y de 32 años, solicita acomodarse por gentil hombre ó mayordomo, ó para comisiones fuera de esta Corte. Vive calle de Fucares, n.7 y qto. baxo. Un mozo de 29 años, que sabe escribir, afeytar y guisar, busca colocacion. Darán razon en la calle de las Pozas, n. 9, qto. principal. Teátros. Hoy es la ópera intitulada: A quien de ageno se viste, en la calle le desnudan, nueva; con 2 bayles, el 1.º el gran bayle heroyco el triunfo de Alexandro contra Dario, y el 2.º el Botero. La entrada de antes de anoche fue de 6728 rs. En el del Principe por la Compañia de Ribera la Comedia intitulada: el Tirano de Ungria, Saynete, el Sarao; con 2 Tonadillas, la 1.ª nueva. La entrada de ayer fué de 2317 rs. En el de la Cruz por la Compañía de Martinez la Comedia intitulada: Marta la Romarantina, 1.ª parte; Saynete, el Maestro de Capilla tuerto, con 2 Tonadillas nuevas, la 1.ª es general, la 2.ª el aguinaldo de Nicolasa, y Garrido, sebera y barquillero, que cantan los dichos. La entrada de ayer fue de 6583 rs.\n"
     ]
    }
   ],
   "source": [
    "example_text = open('periodicos/txt2.txt').read()\n",
    "example_text_path = 'periodicos/txt2.txt'\n",
    "\n",
    "# Cargar contenido del archivo sin especificar la codificación\n",
    "with open(example_text_path, 'r') as file:\n",
    "    example_text = file.read()\n",
    "\n",
    "# Decodificar el texto con la codificación adecuada\n",
    "example_text = example_text.encode('latin-1').decode('utf-8')\n",
    "print(example_text)"
   ]
  },
  {
   "cell_type": "code",
   "execution_count": 6,
   "id": "592a863c",
   "metadata": {},
   "outputs": [],
   "source": [
    "def extract_streetnames(text, streetnames):\n",
    "    sorted(set(streetnames), key=lambda x: len(x), reverse=True)\n",
    "    extracted_streetnames = {}\n",
    "    for street in streetnames:\n",
    "        for match in re.finditer(f'{street}[\\.,\\s\\n;:]', text):\n",
    "            extracted_streetnames[match.start()] = text[match.start():match.end()-1]\n",
    "    return {i: extracted_streetnames[i] for i in sorted(extracted_streetnames.keys())}"
   ]
  },
  {
   "cell_type": "code",
   "execution_count": 8,
   "id": "2cff6b02",
   "metadata": {},
   "outputs": [
    {
     "data": {
      "text/plain": [
       "{18934: 'calle mayor', 20717: 'plaza mayor'}"
      ]
     },
     "execution_count": 8,
     "metadata": {},
     "output_type": "execute_result"
    }
   ],
   "source": [
    "ld_street_names = [name.strip().lower() for name in open('resources/calles.txt').readlines()]\n",
    "\n",
    "extracted_streetnames = extract_streetnames(example_text, ld_street_names)\n",
    "extracted_streetnames"
   ]
  }
 ],
 "metadata": {
  "kernelspec": {
   "display_name": "Python 3 (ipykernel)",
   "language": "python",
   "name": "python3"
  },
  "language_info": {
   "codemirror_mode": {
    "name": "ipython",
    "version": 3
   },
   "file_extension": ".py",
   "mimetype": "text/x-python",
   "name": "python",
   "nbconvert_exporter": "python",
   "pygments_lexer": "ipython3",
   "version": "3.11.5"
  }
 },
 "nbformat": 4,
 "nbformat_minor": 5
}
